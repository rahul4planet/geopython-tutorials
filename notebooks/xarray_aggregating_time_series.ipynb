{
  "cells": [
    {
      "cell_type": "markdown",
      "metadata": {
        "id": "VCi5DKHB7jag"
      },
      "source": [
        "# Aggregating Time Series\n",
        "\n",
        "## Introduction\n",
        "\n",
        "XArray that can perform time-series aggregation with a simple and concise syntax using the [`resample()`](https://docs.xarray.dev/en/stable/generated/xarray.Dataset.resample.html) method. We can easily change the frequency of the original time-series using the desired aggregation method. This tutorial shows how to take a daily precipitation time-series and aggregate it to a monthly total precipitation time-series.\n",
        "\n",
        "## Overview of the Task\n",
        "\n",
        "We will download the gridded precipitation data from Indian Meterological department (IMD) using [`imdlib`](https://pypi.org/project/imdlib/), aggregate the daily time-series to monthly total rainfall and download the resulting rasters as GeoTIFF files.\n",
        "\n",
        "**Input Data**:\n",
        "* Gridded binary precipitation data from IMD.\n",
        "\n",
        "**Output**:\n",
        "* Monthly precipitation rasters as GeoTIFF files.\n",
        "\n",
        "**Data and Software Credit**:\n",
        "*   Pai D.S., Latha Sridhar, Rajeevan M., Sreejith O.P., Satbhai N.S. and Mukhopadhyay B., 2014: Development of a new high spatial resolution (0.25° X 0.25°)Long period (1901-2010) daily gridded rainfall data set over India and its comparison with existing data sets over the region; MAUSAM, 65, 1(January 2014), pp1-18.\n",
        "* Nandi, S., Patel, P., and Swain, S. (2024). IMDLIB: An open-source library for retrieval, processing and spatiotemporal exploratory assessments of gridded meteorological observation datasets over India. Environmental Modelling and Software, 71 (105869), https://doi.org/10.1016/j.envsoft.2023.105869\n",
        "\n",
        "\n"
      ]
    },
    {
      "cell_type": "markdown",
      "metadata": {
        "id": "YauILMlxtHa_"
      },
      "source": [
        "## Setup and Data Download\n",
        "\n",
        "The following blocks of code will install the required packages and download the datasets to your Colab environment."
      ]
    },
    {
      "cell_type": "code",
      "execution_count": 1,
      "metadata": {
        "id": "aQpTzbC0l73O"
      },
      "outputs": [],
      "source": [
        "%%capture\n",
        "if 'google.colab' in str(get_ipython()):\n",
        "    !pip install rioxarray imdlib"
      ]
    },
    {
      "cell_type": "code",
      "execution_count": 75,
      "metadata": {
        "id": "Ghkgm9n_ZX-u"
      },
      "outputs": [],
      "source": [
        "import os\n",
        "import imdlib as imd\n",
        "import rioxarray as xr\n",
        "from matplotlib import pyplot as plt\n",
        "import pandas as pd"
      ]
    },
    {
      "cell_type": "code",
      "execution_count": 3,
      "metadata": {
        "id": "sSvffB_ToEE9"
      },
      "outputs": [],
      "source": [
        "data_folder = 'data'\n",
        "output_folder = 'output'\n",
        "\n",
        "if not os.path.exists(data_folder):\n",
        "    os.mkdir(data_folder)\n",
        "if not os.path.exists(output_folder):\n",
        "    os.mkdir(output_folder)"
      ]
    },
    {
      "cell_type": "markdown",
      "source": [
        "Download gridded binary datasets using [`imdlib`](https://pypi.org/project/imdlib/)."
      ],
      "metadata": {
        "id": "5OZrKq8iP5g0"
      }
    },
    {
      "cell_type": "code",
      "execution_count": 4,
      "metadata": {
        "colab": {
          "base_uri": "https://localhost:8080/"
        },
        "id": "t_fRwiWBqyM9",
        "outputId": "83757287-4a24-46c0-c45f-ace17f272096"
      },
      "outputs": [
        {
          "output_type": "stream",
          "name": "stdout",
          "text": [
            "Downloading: rain for year 2015\n",
            "Downloading: rain for year 2016\n",
            "Downloading: rain for year 2017\n",
            "Downloading: rain for year 2018\n",
            "Downloading: rain for year 2019\n",
            "Downloading: rain for year 2020\n",
            "Download Successful !!!\n"
          ]
        }
      ],
      "source": [
        "start_year = 2015\n",
        "end_year = 2020\n",
        "variable = 'rain' # other options are ('tmin'/ 'tmax')\n",
        "data = imd.get_data(\n",
        "    variable,\n",
        "    start_year,\n",
        "    end_year,\n",
        "    fn_format='yearwise',\n",
        "    file_dir=data_folder\n",
        ")"
      ]
    },
    {
      "cell_type": "markdown",
      "metadata": {
        "id": "2xOPeZxZw9RN"
      },
      "source": [
        "## Data Pre-Processing"
      ]
    },
    {
      "cell_type": "markdown",
      "metadata": {
        "id": "pq7nppDh-BVg"
      },
      "source": [
        "First we read the data and create a XArray Dataset. The NoData values are stored as `-999` so we set those to NaN."
      ]
    },
    {
      "cell_type": "code",
      "execution_count": 62,
      "metadata": {
        "id": "J_brtBxhxFzg",
        "colab": {
          "base_uri": "https://localhost:8080/",
          "height": 422
        },
        "outputId": "6d8e7f57-f686-4e13-9885-bf13a8259c4e"
      },
      "outputs": [
        {
          "output_type": "execute_result",
          "data": {
            "text/plain": [
              "<xarray.Dataset> Size: 305MB\n",
              "Dimensions:  (time: 2192, lat: 129, lon: 135)\n",
              "Coordinates:\n",
              "  * lat      (lat) float64 1kB 6.5 6.75 7.0 7.25 7.5 ... 37.75 38.0 38.25 38.5\n",
              "  * lon      (lon) float64 1kB 66.5 66.75 67.0 67.25 ... 99.25 99.5 99.75 100.0\n",
              "  * time     (time) datetime64[ns] 18kB 2015-01-01 2015-01-02 ... 2020-12-31\n",
              "Data variables:\n",
              "    rain     (time, lat, lon) float64 305MB nan nan nan nan ... nan nan nan nan\n",
              "Attributes:\n",
              "    Conventions:  CF-1.7\n",
              "    title:        IMD gridded data\n",
              "    source:       https://imdpune.gov.in/\n",
              "    history:      2025-04-08 15:51:41.595289 Python\n",
              "    references:   \n",
              "    comment:      \n",
              "    crs:          epsg:4326"
            ],
            "text/html": [
              "<div><svg style=\"position: absolute; width: 0; height: 0; overflow: hidden\">\n",
              "<defs>\n",
              "<symbol id=\"icon-database\" viewBox=\"0 0 32 32\">\n",
              "<path d=\"M16 0c-8.837 0-16 2.239-16 5v4c0 2.761 7.163 5 16 5s16-2.239 16-5v-4c0-2.761-7.163-5-16-5z\"></path>\n",
              "<path d=\"M16 17c-8.837 0-16-2.239-16-5v6c0 2.761 7.163 5 16 5s16-2.239 16-5v-6c0 2.761-7.163 5-16 5z\"></path>\n",
              "<path d=\"M16 26c-8.837 0-16-2.239-16-5v6c0 2.761 7.163 5 16 5s16-2.239 16-5v-6c0 2.761-7.163 5-16 5z\"></path>\n",
              "</symbol>\n",
              "<symbol id=\"icon-file-text2\" viewBox=\"0 0 32 32\">\n",
              "<path d=\"M28.681 7.159c-0.694-0.947-1.662-2.053-2.724-3.116s-2.169-2.030-3.116-2.724c-1.612-1.182-2.393-1.319-2.841-1.319h-15.5c-1.378 0-2.5 1.121-2.5 2.5v27c0 1.378 1.122 2.5 2.5 2.5h23c1.378 0 2.5-1.122 2.5-2.5v-19.5c0-0.448-0.137-1.23-1.319-2.841zM24.543 5.457c0.959 0.959 1.712 1.825 2.268 2.543h-4.811v-4.811c0.718 0.556 1.584 1.309 2.543 2.268zM28 29.5c0 0.271-0.229 0.5-0.5 0.5h-23c-0.271 0-0.5-0.229-0.5-0.5v-27c0-0.271 0.229-0.5 0.5-0.5 0 0 15.499-0 15.5 0v7c0 0.552 0.448 1 1 1h7v19.5z\"></path>\n",
              "<path d=\"M23 26h-14c-0.552 0-1-0.448-1-1s0.448-1 1-1h14c0.552 0 1 0.448 1 1s-0.448 1-1 1z\"></path>\n",
              "<path d=\"M23 22h-14c-0.552 0-1-0.448-1-1s0.448-1 1-1h14c0.552 0 1 0.448 1 1s-0.448 1-1 1z\"></path>\n",
              "<path d=\"M23 18h-14c-0.552 0-1-0.448-1-1s0.448-1 1-1h14c0.552 0 1 0.448 1 1s-0.448 1-1 1z\"></path>\n",
              "</symbol>\n",
              "</defs>\n",
              "</svg>\n",
              "<style>/* CSS stylesheet for displaying xarray objects in jupyterlab.\n",
              " *\n",
              " */\n",
              "\n",
              ":root {\n",
              "  --xr-font-color0: var(--jp-content-font-color0, rgba(0, 0, 0, 1));\n",
              "  --xr-font-color2: var(--jp-content-font-color2, rgba(0, 0, 0, 0.54));\n",
              "  --xr-font-color3: var(--jp-content-font-color3, rgba(0, 0, 0, 0.38));\n",
              "  --xr-border-color: var(--jp-border-color2, #e0e0e0);\n",
              "  --xr-disabled-color: var(--jp-layout-color3, #bdbdbd);\n",
              "  --xr-background-color: var(--jp-layout-color0, white);\n",
              "  --xr-background-color-row-even: var(--jp-layout-color1, white);\n",
              "  --xr-background-color-row-odd: var(--jp-layout-color2, #eeeeee);\n",
              "}\n",
              "\n",
              "html[theme=\"dark\"],\n",
              "html[data-theme=\"dark\"],\n",
              "body[data-theme=\"dark\"],\n",
              "body.vscode-dark {\n",
              "  --xr-font-color0: rgba(255, 255, 255, 1);\n",
              "  --xr-font-color2: rgba(255, 255, 255, 0.54);\n",
              "  --xr-font-color3: rgba(255, 255, 255, 0.38);\n",
              "  --xr-border-color: #1f1f1f;\n",
              "  --xr-disabled-color: #515151;\n",
              "  --xr-background-color: #111111;\n",
              "  --xr-background-color-row-even: #111111;\n",
              "  --xr-background-color-row-odd: #313131;\n",
              "}\n",
              "\n",
              ".xr-wrap {\n",
              "  display: block !important;\n",
              "  min-width: 300px;\n",
              "  max-width: 700px;\n",
              "}\n",
              "\n",
              ".xr-text-repr-fallback {\n",
              "  /* fallback to plain text repr when CSS is not injected (untrusted notebook) */\n",
              "  display: none;\n",
              "}\n",
              "\n",
              ".xr-header {\n",
              "  padding-top: 6px;\n",
              "  padding-bottom: 6px;\n",
              "  margin-bottom: 4px;\n",
              "  border-bottom: solid 1px var(--xr-border-color);\n",
              "}\n",
              "\n",
              ".xr-header > div,\n",
              ".xr-header > ul {\n",
              "  display: inline;\n",
              "  margin-top: 0;\n",
              "  margin-bottom: 0;\n",
              "}\n",
              "\n",
              ".xr-obj-type,\n",
              ".xr-array-name {\n",
              "  margin-left: 2px;\n",
              "  margin-right: 10px;\n",
              "}\n",
              "\n",
              ".xr-obj-type {\n",
              "  color: var(--xr-font-color2);\n",
              "}\n",
              "\n",
              ".xr-sections {\n",
              "  padding-left: 0 !important;\n",
              "  display: grid;\n",
              "  grid-template-columns: 150px auto auto 1fr 0 20px 0 20px;\n",
              "}\n",
              "\n",
              ".xr-section-item {\n",
              "  display: contents;\n",
              "}\n",
              "\n",
              ".xr-section-item input {\n",
              "  display: inline-block;\n",
              "  opacity: 0;\n",
              "  height: 0;\n",
              "}\n",
              "\n",
              ".xr-section-item input + label {\n",
              "  color: var(--xr-disabled-color);\n",
              "}\n",
              "\n",
              ".xr-section-item input:enabled + label {\n",
              "  cursor: pointer;\n",
              "  color: var(--xr-font-color2);\n",
              "}\n",
              "\n",
              ".xr-section-item input:focus + label {\n",
              "  border: 2px solid var(--xr-font-color0);\n",
              "}\n",
              "\n",
              ".xr-section-item input:enabled + label:hover {\n",
              "  color: var(--xr-font-color0);\n",
              "}\n",
              "\n",
              ".xr-section-summary {\n",
              "  grid-column: 1;\n",
              "  color: var(--xr-font-color2);\n",
              "  font-weight: 500;\n",
              "}\n",
              "\n",
              ".xr-section-summary > span {\n",
              "  display: inline-block;\n",
              "  padding-left: 0.5em;\n",
              "}\n",
              "\n",
              ".xr-section-summary-in:disabled + label {\n",
              "  color: var(--xr-font-color2);\n",
              "}\n",
              "\n",
              ".xr-section-summary-in + label:before {\n",
              "  display: inline-block;\n",
              "  content: \"►\";\n",
              "  font-size: 11px;\n",
              "  width: 15px;\n",
              "  text-align: center;\n",
              "}\n",
              "\n",
              ".xr-section-summary-in:disabled + label:before {\n",
              "  color: var(--xr-disabled-color);\n",
              "}\n",
              "\n",
              ".xr-section-summary-in:checked + label:before {\n",
              "  content: \"▼\";\n",
              "}\n",
              "\n",
              ".xr-section-summary-in:checked + label > span {\n",
              "  display: none;\n",
              "}\n",
              "\n",
              ".xr-section-summary,\n",
              ".xr-section-inline-details {\n",
              "  padding-top: 4px;\n",
              "  padding-bottom: 4px;\n",
              "}\n",
              "\n",
              ".xr-section-inline-details {\n",
              "  grid-column: 2 / -1;\n",
              "}\n",
              "\n",
              ".xr-section-details {\n",
              "  display: none;\n",
              "  grid-column: 1 / -1;\n",
              "  margin-bottom: 5px;\n",
              "}\n",
              "\n",
              ".xr-section-summary-in:checked ~ .xr-section-details {\n",
              "  display: contents;\n",
              "}\n",
              "\n",
              ".xr-array-wrap {\n",
              "  grid-column: 1 / -1;\n",
              "  display: grid;\n",
              "  grid-template-columns: 20px auto;\n",
              "}\n",
              "\n",
              ".xr-array-wrap > label {\n",
              "  grid-column: 1;\n",
              "  vertical-align: top;\n",
              "}\n",
              "\n",
              ".xr-preview {\n",
              "  color: var(--xr-font-color3);\n",
              "}\n",
              "\n",
              ".xr-array-preview,\n",
              ".xr-array-data {\n",
              "  padding: 0 5px !important;\n",
              "  grid-column: 2;\n",
              "}\n",
              "\n",
              ".xr-array-data,\n",
              ".xr-array-in:checked ~ .xr-array-preview {\n",
              "  display: none;\n",
              "}\n",
              "\n",
              ".xr-array-in:checked ~ .xr-array-data,\n",
              ".xr-array-preview {\n",
              "  display: inline-block;\n",
              "}\n",
              "\n",
              ".xr-dim-list {\n",
              "  display: inline-block !important;\n",
              "  list-style: none;\n",
              "  padding: 0 !important;\n",
              "  margin: 0;\n",
              "}\n",
              "\n",
              ".xr-dim-list li {\n",
              "  display: inline-block;\n",
              "  padding: 0;\n",
              "  margin: 0;\n",
              "}\n",
              "\n",
              ".xr-dim-list:before {\n",
              "  content: \"(\";\n",
              "}\n",
              "\n",
              ".xr-dim-list:after {\n",
              "  content: \")\";\n",
              "}\n",
              "\n",
              ".xr-dim-list li:not(:last-child):after {\n",
              "  content: \",\";\n",
              "  padding-right: 5px;\n",
              "}\n",
              "\n",
              ".xr-has-index {\n",
              "  font-weight: bold;\n",
              "}\n",
              "\n",
              ".xr-var-list,\n",
              ".xr-var-item {\n",
              "  display: contents;\n",
              "}\n",
              "\n",
              ".xr-var-item > div,\n",
              ".xr-var-item label,\n",
              ".xr-var-item > .xr-var-name span {\n",
              "  background-color: var(--xr-background-color-row-even);\n",
              "  margin-bottom: 0;\n",
              "}\n",
              "\n",
              ".xr-var-item > .xr-var-name:hover span {\n",
              "  padding-right: 5px;\n",
              "}\n",
              "\n",
              ".xr-var-list > li:nth-child(odd) > div,\n",
              ".xr-var-list > li:nth-child(odd) > label,\n",
              ".xr-var-list > li:nth-child(odd) > .xr-var-name span {\n",
              "  background-color: var(--xr-background-color-row-odd);\n",
              "}\n",
              "\n",
              ".xr-var-name {\n",
              "  grid-column: 1;\n",
              "}\n",
              "\n",
              ".xr-var-dims {\n",
              "  grid-column: 2;\n",
              "}\n",
              "\n",
              ".xr-var-dtype {\n",
              "  grid-column: 3;\n",
              "  text-align: right;\n",
              "  color: var(--xr-font-color2);\n",
              "}\n",
              "\n",
              ".xr-var-preview {\n",
              "  grid-column: 4;\n",
              "}\n",
              "\n",
              ".xr-index-preview {\n",
              "  grid-column: 2 / 5;\n",
              "  color: var(--xr-font-color2);\n",
              "}\n",
              "\n",
              ".xr-var-name,\n",
              ".xr-var-dims,\n",
              ".xr-var-dtype,\n",
              ".xr-preview,\n",
              ".xr-attrs dt {\n",
              "  white-space: nowrap;\n",
              "  overflow: hidden;\n",
              "  text-overflow: ellipsis;\n",
              "  padding-right: 10px;\n",
              "}\n",
              "\n",
              ".xr-var-name:hover,\n",
              ".xr-var-dims:hover,\n",
              ".xr-var-dtype:hover,\n",
              ".xr-attrs dt:hover {\n",
              "  overflow: visible;\n",
              "  width: auto;\n",
              "  z-index: 1;\n",
              "}\n",
              "\n",
              ".xr-var-attrs,\n",
              ".xr-var-data,\n",
              ".xr-index-data {\n",
              "  display: none;\n",
              "  background-color: var(--xr-background-color) !important;\n",
              "  padding-bottom: 5px !important;\n",
              "}\n",
              "\n",
              ".xr-var-attrs-in:checked ~ .xr-var-attrs,\n",
              ".xr-var-data-in:checked ~ .xr-var-data,\n",
              ".xr-index-data-in:checked ~ .xr-index-data {\n",
              "  display: block;\n",
              "}\n",
              "\n",
              ".xr-var-data > table {\n",
              "  float: right;\n",
              "}\n",
              "\n",
              ".xr-var-name span,\n",
              ".xr-var-data,\n",
              ".xr-index-name div,\n",
              ".xr-index-data,\n",
              ".xr-attrs {\n",
              "  padding-left: 25px !important;\n",
              "}\n",
              "\n",
              ".xr-attrs,\n",
              ".xr-var-attrs,\n",
              ".xr-var-data,\n",
              ".xr-index-data {\n",
              "  grid-column: 1 / -1;\n",
              "}\n",
              "\n",
              "dl.xr-attrs {\n",
              "  padding: 0;\n",
              "  margin: 0;\n",
              "  display: grid;\n",
              "  grid-template-columns: 125px auto;\n",
              "}\n",
              "\n",
              ".xr-attrs dt,\n",
              ".xr-attrs dd {\n",
              "  padding: 0;\n",
              "  margin: 0;\n",
              "  float: left;\n",
              "  padding-right: 10px;\n",
              "  width: auto;\n",
              "}\n",
              "\n",
              ".xr-attrs dt {\n",
              "  font-weight: normal;\n",
              "  grid-column: 1;\n",
              "}\n",
              "\n",
              ".xr-attrs dt:hover span {\n",
              "  display: inline-block;\n",
              "  background: var(--xr-background-color);\n",
              "  padding-right: 10px;\n",
              "}\n",
              "\n",
              ".xr-attrs dd {\n",
              "  grid-column: 2;\n",
              "  white-space: pre-wrap;\n",
              "  word-break: break-all;\n",
              "}\n",
              "\n",
              ".xr-icon-database,\n",
              ".xr-icon-file-text2,\n",
              ".xr-no-icon {\n",
              "  display: inline-block;\n",
              "  vertical-align: middle;\n",
              "  width: 1em;\n",
              "  height: 1.5em !important;\n",
              "  stroke-width: 0;\n",
              "  stroke: currentColor;\n",
              "  fill: currentColor;\n",
              "}\n",
              "</style><pre class='xr-text-repr-fallback'>&lt;xarray.Dataset&gt; Size: 305MB\n",
              "Dimensions:  (time: 2192, lat: 129, lon: 135)\n",
              "Coordinates:\n",
              "  * lat      (lat) float64 1kB 6.5 6.75 7.0 7.25 7.5 ... 37.75 38.0 38.25 38.5\n",
              "  * lon      (lon) float64 1kB 66.5 66.75 67.0 67.25 ... 99.25 99.5 99.75 100.0\n",
              "  * time     (time) datetime64[ns] 18kB 2015-01-01 2015-01-02 ... 2020-12-31\n",
              "Data variables:\n",
              "    rain     (time, lat, lon) float64 305MB nan nan nan nan ... nan nan nan nan\n",
              "Attributes:\n",
              "    Conventions:  CF-1.7\n",
              "    title:        IMD gridded data\n",
              "    source:       https://imdpune.gov.in/\n",
              "    history:      2025-04-08 15:51:41.595289 Python\n",
              "    references:   \n",
              "    comment:      \n",
              "    crs:          epsg:4326</pre><div class='xr-wrap' style='display:none'><div class='xr-header'><div class='xr-obj-type'>xarray.Dataset</div></div><ul class='xr-sections'><li class='xr-section-item'><input id='section-86d04c4d-f462-49a2-b60a-f676c118d830' class='xr-section-summary-in' type='checkbox' disabled ><label for='section-86d04c4d-f462-49a2-b60a-f676c118d830' class='xr-section-summary'  title='Expand/collapse section'>Dimensions:</label><div class='xr-section-inline-details'><ul class='xr-dim-list'><li><span class='xr-has-index'>time</span>: 2192</li><li><span class='xr-has-index'>lat</span>: 129</li><li><span class='xr-has-index'>lon</span>: 135</li></ul></div><div class='xr-section-details'></div></li><li class='xr-section-item'><input id='section-704bb8ff-0aca-443d-bafd-74c357b3f3d5' class='xr-section-summary-in' type='checkbox'  checked><label for='section-704bb8ff-0aca-443d-bafd-74c357b3f3d5' class='xr-section-summary' >Coordinates: <span>(3)</span></label><div class='xr-section-inline-details'></div><div class='xr-section-details'><ul class='xr-var-list'><li class='xr-var-item'><div class='xr-var-name'><span class='xr-has-index'>lat</span></div><div class='xr-var-dims'>(lat)</div><div class='xr-var-dtype'>float64</div><div class='xr-var-preview xr-preview'>6.5 6.75 7.0 ... 38.0 38.25 38.5</div><input id='attrs-6a531ee2-b5f8-46f7-bc06-d07d95ff49ab' class='xr-var-attrs-in' type='checkbox' ><label for='attrs-6a531ee2-b5f8-46f7-bc06-d07d95ff49ab' title='Show/Hide attributes'><svg class='icon xr-icon-file-text2'><use xlink:href='#icon-file-text2'></use></svg></label><input id='data-b8e845fb-f959-473a-8bbb-8c9e3d23f6d0' class='xr-var-data-in' type='checkbox'><label for='data-b8e845fb-f959-473a-8bbb-8c9e3d23f6d0' title='Show/Hide data repr'><svg class='icon xr-icon-database'><use xlink:href='#icon-database'></use></svg></label><div class='xr-var-attrs'><dl class='xr-attrs'><dt><span>axis :</span></dt><dd>Y</dd><dt><span>standard_name :</span></dt><dd>latitude</dd><dt><span>long_name :</span></dt><dd>latitude</dd><dt><span>units :</span></dt><dd>degrees_north</dd></dl></div><div class='xr-var-data'><pre>array([ 6.5 ,  6.75,  7.  ,  7.25,  7.5 ,  7.75,  8.  ,  8.25,  8.5 ,  8.75,\n",
              "        9.  ,  9.25,  9.5 ,  9.75, 10.  , 10.25, 10.5 , 10.75, 11.  , 11.25,\n",
              "       11.5 , 11.75, 12.  , 12.25, 12.5 , 12.75, 13.  , 13.25, 13.5 , 13.75,\n",
              "       14.  , 14.25, 14.5 , 14.75, 15.  , 15.25, 15.5 , 15.75, 16.  , 16.25,\n",
              "       16.5 , 16.75, 17.  , 17.25, 17.5 , 17.75, 18.  , 18.25, 18.5 , 18.75,\n",
              "       19.  , 19.25, 19.5 , 19.75, 20.  , 20.25, 20.5 , 20.75, 21.  , 21.25,\n",
              "       21.5 , 21.75, 22.  , 22.25, 22.5 , 22.75, 23.  , 23.25, 23.5 , 23.75,\n",
              "       24.  , 24.25, 24.5 , 24.75, 25.  , 25.25, 25.5 , 25.75, 26.  , 26.25,\n",
              "       26.5 , 26.75, 27.  , 27.25, 27.5 , 27.75, 28.  , 28.25, 28.5 , 28.75,\n",
              "       29.  , 29.25, 29.5 , 29.75, 30.  , 30.25, 30.5 , 30.75, 31.  , 31.25,\n",
              "       31.5 , 31.75, 32.  , 32.25, 32.5 , 32.75, 33.  , 33.25, 33.5 , 33.75,\n",
              "       34.  , 34.25, 34.5 , 34.75, 35.  , 35.25, 35.5 , 35.75, 36.  , 36.25,\n",
              "       36.5 , 36.75, 37.  , 37.25, 37.5 , 37.75, 38.  , 38.25, 38.5 ])</pre></div></li><li class='xr-var-item'><div class='xr-var-name'><span class='xr-has-index'>lon</span></div><div class='xr-var-dims'>(lon)</div><div class='xr-var-dtype'>float64</div><div class='xr-var-preview xr-preview'>66.5 66.75 67.0 ... 99.75 100.0</div><input id='attrs-564a535c-98f3-4aab-9975-6fb5b8e6119e' class='xr-var-attrs-in' type='checkbox' ><label for='attrs-564a535c-98f3-4aab-9975-6fb5b8e6119e' title='Show/Hide attributes'><svg class='icon xr-icon-file-text2'><use xlink:href='#icon-file-text2'></use></svg></label><input id='data-6e7cc3a7-ab60-48f5-a9c5-3c1e6885056b' class='xr-var-data-in' type='checkbox'><label for='data-6e7cc3a7-ab60-48f5-a9c5-3c1e6885056b' title='Show/Hide data repr'><svg class='icon xr-icon-database'><use xlink:href='#icon-database'></use></svg></label><div class='xr-var-attrs'><dl class='xr-attrs'><dt><span>axis :</span></dt><dd>X</dd><dt><span>long_name :</span></dt><dd>longitude</dd><dt><span>units :</span></dt><dd>degrees_east</dd></dl></div><div class='xr-var-data'><pre>array([ 66.5 ,  66.75,  67.  ,  67.25,  67.5 ,  67.75,  68.  ,  68.25,  68.5 ,\n",
              "        68.75,  69.  ,  69.25,  69.5 ,  69.75,  70.  ,  70.25,  70.5 ,  70.75,\n",
              "        71.  ,  71.25,  71.5 ,  71.75,  72.  ,  72.25,  72.5 ,  72.75,  73.  ,\n",
              "        73.25,  73.5 ,  73.75,  74.  ,  74.25,  74.5 ,  74.75,  75.  ,  75.25,\n",
              "        75.5 ,  75.75,  76.  ,  76.25,  76.5 ,  76.75,  77.  ,  77.25,  77.5 ,\n",
              "        77.75,  78.  ,  78.25,  78.5 ,  78.75,  79.  ,  79.25,  79.5 ,  79.75,\n",
              "        80.  ,  80.25,  80.5 ,  80.75,  81.  ,  81.25,  81.5 ,  81.75,  82.  ,\n",
              "        82.25,  82.5 ,  82.75,  83.  ,  83.25,  83.5 ,  83.75,  84.  ,  84.25,\n",
              "        84.5 ,  84.75,  85.  ,  85.25,  85.5 ,  85.75,  86.  ,  86.25,  86.5 ,\n",
              "        86.75,  87.  ,  87.25,  87.5 ,  87.75,  88.  ,  88.25,  88.5 ,  88.75,\n",
              "        89.  ,  89.25,  89.5 ,  89.75,  90.  ,  90.25,  90.5 ,  90.75,  91.  ,\n",
              "        91.25,  91.5 ,  91.75,  92.  ,  92.25,  92.5 ,  92.75,  93.  ,  93.25,\n",
              "        93.5 ,  93.75,  94.  ,  94.25,  94.5 ,  94.75,  95.  ,  95.25,  95.5 ,\n",
              "        95.75,  96.  ,  96.25,  96.5 ,  96.75,  97.  ,  97.25,  97.5 ,  97.75,\n",
              "        98.  ,  98.25,  98.5 ,  98.75,  99.  ,  99.25,  99.5 ,  99.75, 100.  ])</pre></div></li><li class='xr-var-item'><div class='xr-var-name'><span class='xr-has-index'>time</span></div><div class='xr-var-dims'>(time)</div><div class='xr-var-dtype'>datetime64[ns]</div><div class='xr-var-preview xr-preview'>2015-01-01 ... 2020-12-31</div><input id='attrs-f5162d7d-cb53-4cbf-a67d-ef17bc694717' class='xr-var-attrs-in' type='checkbox' ><label for='attrs-f5162d7d-cb53-4cbf-a67d-ef17bc694717' title='Show/Hide attributes'><svg class='icon xr-icon-file-text2'><use xlink:href='#icon-file-text2'></use></svg></label><input id='data-41f5e84b-6fbd-4951-844c-eb0667ad04e6' class='xr-var-data-in' type='checkbox'><label for='data-41f5e84b-6fbd-4951-844c-eb0667ad04e6' title='Show/Hide data repr'><svg class='icon xr-icon-database'><use xlink:href='#icon-database'></use></svg></label><div class='xr-var-attrs'><dl class='xr-attrs'><dt><span>standard_name :</span></dt><dd>time</dd><dt><span>long_name :</span></dt><dd>time</dd></dl></div><div class='xr-var-data'><pre>array([&#x27;2015-01-01T00:00:00.000000000&#x27;, &#x27;2015-01-02T00:00:00.000000000&#x27;,\n",
              "       &#x27;2015-01-03T00:00:00.000000000&#x27;, ..., &#x27;2020-12-29T00:00:00.000000000&#x27;,\n",
              "       &#x27;2020-12-30T00:00:00.000000000&#x27;, &#x27;2020-12-31T00:00:00.000000000&#x27;],\n",
              "      dtype=&#x27;datetime64[ns]&#x27;)</pre></div></li></ul></div></li><li class='xr-section-item'><input id='section-e09bc2df-6540-4ca3-b809-c93b9335d762' class='xr-section-summary-in' type='checkbox'  checked><label for='section-e09bc2df-6540-4ca3-b809-c93b9335d762' class='xr-section-summary' >Data variables: <span>(1)</span></label><div class='xr-section-inline-details'></div><div class='xr-section-details'><ul class='xr-var-list'><li class='xr-var-item'><div class='xr-var-name'><span>rain</span></div><div class='xr-var-dims'>(time, lat, lon)</div><div class='xr-var-dtype'>float64</div><div class='xr-var-preview xr-preview'>nan nan nan nan ... nan nan nan nan</div><input id='attrs-5b797c7e-4810-40fc-9e62-6c658df369f0' class='xr-var-attrs-in' type='checkbox' ><label for='attrs-5b797c7e-4810-40fc-9e62-6c658df369f0' title='Show/Hide attributes'><svg class='icon xr-icon-file-text2'><use xlink:href='#icon-file-text2'></use></svg></label><input id='data-362a06e1-67d0-4a03-a9a6-fd6fa2aa713f' class='xr-var-data-in' type='checkbox'><label for='data-362a06e1-67d0-4a03-a9a6-fd6fa2aa713f' title='Show/Hide data repr'><svg class='icon xr-icon-database'><use xlink:href='#icon-database'></use></svg></label><div class='xr-var-attrs'><dl class='xr-attrs'><dt><span>units :</span></dt><dd>mm/day</dd><dt><span>long_name :</span></dt><dd>Rainfall</dd></dl></div><div class='xr-var-data'><pre>array([[[nan, nan, nan, ..., nan, nan, nan],\n",
              "        [nan, nan, nan, ..., nan, nan, nan],\n",
              "        [nan, nan, nan, ..., nan, nan, nan],\n",
              "        ...,\n",
              "        [nan, nan, nan, ..., nan, nan, nan],\n",
              "        [nan, nan, nan, ..., nan, nan, nan],\n",
              "        [nan, nan, nan, ..., nan, nan, nan]],\n",
              "\n",
              "       [[nan, nan, nan, ..., nan, nan, nan],\n",
              "        [nan, nan, nan, ..., nan, nan, nan],\n",
              "        [nan, nan, nan, ..., nan, nan, nan],\n",
              "        ...,\n",
              "        [nan, nan, nan, ..., nan, nan, nan],\n",
              "        [nan, nan, nan, ..., nan, nan, nan],\n",
              "        [nan, nan, nan, ..., nan, nan, nan]],\n",
              "\n",
              "       [[nan, nan, nan, ..., nan, nan, nan],\n",
              "        [nan, nan, nan, ..., nan, nan, nan],\n",
              "        [nan, nan, nan, ..., nan, nan, nan],\n",
              "        ...,\n",
              "...\n",
              "        ...,\n",
              "        [nan, nan, nan, ..., nan, nan, nan],\n",
              "        [nan, nan, nan, ..., nan, nan, nan],\n",
              "        [nan, nan, nan, ..., nan, nan, nan]],\n",
              "\n",
              "       [[nan, nan, nan, ..., nan, nan, nan],\n",
              "        [nan, nan, nan, ..., nan, nan, nan],\n",
              "        [nan, nan, nan, ..., nan, nan, nan],\n",
              "        ...,\n",
              "        [nan, nan, nan, ..., nan, nan, nan],\n",
              "        [nan, nan, nan, ..., nan, nan, nan],\n",
              "        [nan, nan, nan, ..., nan, nan, nan]],\n",
              "\n",
              "       [[nan, nan, nan, ..., nan, nan, nan],\n",
              "        [nan, nan, nan, ..., nan, nan, nan],\n",
              "        [nan, nan, nan, ..., nan, nan, nan],\n",
              "        ...,\n",
              "        [nan, nan, nan, ..., nan, nan, nan],\n",
              "        [nan, nan, nan, ..., nan, nan, nan],\n",
              "        [nan, nan, nan, ..., nan, nan, nan]]])</pre></div></li></ul></div></li><li class='xr-section-item'><input id='section-03594a71-3c91-4010-b712-b3f494f65acf' class='xr-section-summary-in' type='checkbox'  ><label for='section-03594a71-3c91-4010-b712-b3f494f65acf' class='xr-section-summary' >Indexes: <span>(3)</span></label><div class='xr-section-inline-details'></div><div class='xr-section-details'><ul class='xr-var-list'><li class='xr-var-item'><div class='xr-index-name'><div>lat</div></div><div class='xr-index-preview'>PandasIndex</div><input type='checkbox' disabled/><label></label><input id='index-55e84bf1-a23f-423f-847f-ada0a3af3675' class='xr-index-data-in' type='checkbox'/><label for='index-55e84bf1-a23f-423f-847f-ada0a3af3675' title='Show/Hide index repr'><svg class='icon xr-icon-database'><use xlink:href='#icon-database'></use></svg></label><div class='xr-index-data'><pre>PandasIndex(Index([  6.5,  6.75,   7.0,  7.25,   7.5,  7.75,   8.0,  8.25,   8.5,  8.75,\n",
              "       ...\n",
              "       36.25,  36.5, 36.75,  37.0, 37.25,  37.5, 37.75,  38.0, 38.25,  38.5],\n",
              "      dtype=&#x27;float64&#x27;, name=&#x27;lat&#x27;, length=129))</pre></div></li><li class='xr-var-item'><div class='xr-index-name'><div>lon</div></div><div class='xr-index-preview'>PandasIndex</div><input type='checkbox' disabled/><label></label><input id='index-86752b81-26be-41a8-aa72-7cfb0c4fb1e1' class='xr-index-data-in' type='checkbox'/><label for='index-86752b81-26be-41a8-aa72-7cfb0c4fb1e1' title='Show/Hide index repr'><svg class='icon xr-icon-database'><use xlink:href='#icon-database'></use></svg></label><div class='xr-index-data'><pre>PandasIndex(Index([ 66.5, 66.75,  67.0, 67.25,  67.5, 67.75,  68.0, 68.25,  68.5, 68.75,\n",
              "       ...\n",
              "       97.75,  98.0, 98.25,  98.5, 98.75,  99.0, 99.25,  99.5, 99.75, 100.0],\n",
              "      dtype=&#x27;float64&#x27;, name=&#x27;lon&#x27;, length=135))</pre></div></li><li class='xr-var-item'><div class='xr-index-name'><div>time</div></div><div class='xr-index-preview'>PandasIndex</div><input type='checkbox' disabled/><label></label><input id='index-b23fcea3-eb2c-45d6-9725-9837b43d22a2' class='xr-index-data-in' type='checkbox'/><label for='index-b23fcea3-eb2c-45d6-9725-9837b43d22a2' title='Show/Hide index repr'><svg class='icon xr-icon-database'><use xlink:href='#icon-database'></use></svg></label><div class='xr-index-data'><pre>PandasIndex(DatetimeIndex([&#x27;2015-01-01&#x27;, &#x27;2015-01-02&#x27;, &#x27;2015-01-03&#x27;, &#x27;2015-01-04&#x27;,\n",
              "               &#x27;2015-01-05&#x27;, &#x27;2015-01-06&#x27;, &#x27;2015-01-07&#x27;, &#x27;2015-01-08&#x27;,\n",
              "               &#x27;2015-01-09&#x27;, &#x27;2015-01-10&#x27;,\n",
              "               ...\n",
              "               &#x27;2020-12-22&#x27;, &#x27;2020-12-23&#x27;, &#x27;2020-12-24&#x27;, &#x27;2020-12-25&#x27;,\n",
              "               &#x27;2020-12-26&#x27;, &#x27;2020-12-27&#x27;, &#x27;2020-12-28&#x27;, &#x27;2020-12-29&#x27;,\n",
              "               &#x27;2020-12-30&#x27;, &#x27;2020-12-31&#x27;],\n",
              "              dtype=&#x27;datetime64[ns]&#x27;, name=&#x27;time&#x27;, length=2192, freq=&#x27;D&#x27;))</pre></div></li></ul></div></li><li class='xr-section-item'><input id='section-2648dfbc-4812-4130-ba45-b77dfa47624f' class='xr-section-summary-in' type='checkbox'  checked><label for='section-2648dfbc-4812-4130-ba45-b77dfa47624f' class='xr-section-summary' >Attributes: <span>(7)</span></label><div class='xr-section-inline-details'></div><div class='xr-section-details'><dl class='xr-attrs'><dt><span>Conventions :</span></dt><dd>CF-1.7</dd><dt><span>title :</span></dt><dd>IMD gridded data</dd><dt><span>source :</span></dt><dd>https://imdpune.gov.in/</dd><dt><span>history :</span></dt><dd>2025-04-08 15:51:41.595289 Python</dd><dt><span>references :</span></dt><dd></dd><dt><span>comment :</span></dt><dd></dd><dt><span>crs :</span></dt><dd>epsg:4326</dd></dl></div></li></ul></div></div>"
            ]
          },
          "metadata": {},
          "execution_count": 62
        }
      ],
      "source": [
        "data = imd.open_data(\n",
        "    variable,\n",
        "    start_year,\n",
        "    end_year,\n",
        "    'yearwise',\n",
        "    data_folder)\n",
        "\n",
        "ds = data.get_xarray()\n",
        "ds = ds.where(ds['rain'] != -999.)\n",
        "ds"
      ]
    },
    {
      "cell_type": "markdown",
      "metadata": {
        "id": "Mwq9kB7cYiQw"
      },
      "source": [
        "## Aggregating Data\n",
        "\n",
        "The input data containsdaily precipitation values. We want to aggregate these to monthly totals. XArray allows specifying the target frequency using a concise [frequncy string](https://pandas.pydata.org/pandas-docs/stable/user_guide/timeseries.html#offset-aliases) from Pandas. The string **1MS** creates a time-series grouping from **Month Start** as **1** month intervals. We use `sum()` after resampling to calculate the monthly totals.\n",
        "\n",
        "The result is a XArray Dataset with 12 time-steps for each year."
      ]
    },
    {
      "cell_type": "code",
      "source": [
        "ds_monthly = ds.resample(time='1MS').sum()"
      ],
      "metadata": {
        "id": "yTv1lwNWRg3T"
      },
      "execution_count": 68,
      "outputs": []
    },
    {
      "cell_type": "markdown",
      "metadata": {
        "id": "2mwi_NdtF5oE"
      },
      "source": [
        "## Plotting the time-series"
      ]
    },
    {
      "cell_type": "markdown",
      "source": [
        "Select the `rain` variable."
      ],
      "metadata": {
        "id": "UFUy-Np93nII"
      }
    },
    {
      "cell_type": "code",
      "source": [
        "da_monthly = ds_monthly['rain']"
      ],
      "metadata": {
        "id": "myKF0B473gmp"
      },
      "execution_count": 53,
      "outputs": []
    },
    {
      "cell_type": "markdown",
      "metadata": {
        "id": "J5BwcoGN1ZR-"
      },
      "source": [
        "We can extract the time-series at a specific X,Y coordinate. As our coordinates may not exactly match the DataArray coords, we use the `interp()` method to get the `nearest` value."
      ]
    },
    {
      "cell_type": "code",
      "execution_count": 44,
      "metadata": {
        "id": "BRVeLWdsfiTM"
      },
      "outputs": [],
      "source": [
        "coordinate = (13.16, 77.35) # Lat/Lon\n",
        "time_series = da_monthly \\\n",
        "  .interp(lat=coordinate[0], lon=coordinate[1], method='nearest')"
      ]
    },
    {
      "cell_type": "markdown",
      "metadata": {
        "id": "RRjCa2Bp7AIf"
      },
      "source": [
        "Let's plot a time-series chart."
      ]
    },
    {
      "cell_type": "code",
      "execution_count": 45,
      "metadata": {
        "colab": {
          "base_uri": "https://localhost:8080/",
          "height": 476
        },
        "id": "aim3uBoq66C0",
        "outputId": "ecf212b4-cad7-4d8d-f16c-50238aefe304"
      },
      "outputs": [
        {
          "output_type": "display_data",
          "data": {
            "text/plain": [
              "<Figure size 1500x700 with 1 Axes>"
            ],
            "image/png": "[encoded data removed]"
          },
          "metadata": {}
        }
      ],
      "source": [
        "fig, ax = plt.subplots(1, 1)\n",
        "fig.set_size_inches(15, 7)\n",
        "\n",
        "time_series.plot.line(\n",
        "    ax=ax, x='time', marker='o', linestyle='-', linewidth=1)\n",
        "ax.set_title('Monthly Precipitation')\n",
        "plt.show()\n"
      ]
    },
    {
      "cell_type": "markdown",
      "source": [
        "## Export Monthly Images as GeoTIFFs"
      ],
      "metadata": {
        "id": "nVrLde2vAmIz"
      }
    },
    {
      "cell_type": "code",
      "source": [
        "for time in da_monthly.time.values:\n",
        "  image = da_monthly.sel(time=time)\n",
        "  # transform the image to suit rioxarray format\n",
        "  image = image \\\n",
        "    .rio.write_crs('EPSG:4326') \\\n",
        "    .rio.set_spatial_dims('lon', 'lat')\n",
        "  date = pd.to_datetime(time).strftime('%Y-%m')\n",
        "  output_file = f'image_{date}.tif'\n",
        "  output_path = os.path.join(output_folder, output_file)\n",
        "  image.rio.to_raster(output_path, driver='COG')\n",
        "  print('Wrote file:', output_path)"
      ],
      "metadata": {
        "id": "XoB5HCYqHVjb"
      },
      "execution_count": null,
      "outputs": []
    },
    {
      "cell_type": "markdown",
      "metadata": {
        "id": "tABgfgooKifV"
      },
      "source": [
        "----\n",
        "\n",
        "If you want to give feedback or share your experience with this tutorial, please comment below. (requires GitHub account)\n",
        "\n",
        "\n",
        "<script src='https://utteranc.es/client.js'\n",
        "    repo='spatialthoughts/geopython-tutorials'\n",
        "    issue-term='pathname'\n",
        "    theme='github-light'\n",
        "    crossorigin='anonymous'\n",
        "    async>\n",
        "</script>"
      ]
    }
  ],
  "metadata": {
    "colab": {
      "provenance": []
    },
    "kernelspec": {
      "display_name": "Python 3 (ipykernel)",
      "language": "python",
      "name": "python3"
    },
    "language_info": {
      "codemirror_mode": {
        "name": "ipython",
        "version": 3
      },
      "file_extension": ".py",
      "mimetype": "text/x-python",
      "name": "python",
      "nbconvert_exporter": "python",
      "pygments_lexer": "ipython3",
      "version": "3.13.1"
    }
  },
  "nbformat": 4,
  "nbformat_minor": 0
}
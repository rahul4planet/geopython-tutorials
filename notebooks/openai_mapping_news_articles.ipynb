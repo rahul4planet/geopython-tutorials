{
 "cells": [
  {
   "cell_type": "markdown",
   "metadata": {
    "id": "y4i88eriHdD9"
   },
   "source": [
    "# Natural Language Processing using OpenAI API\n",
    "\n",
    "This notebook shows how to extract information from news articles using OpenAI API. The notebook is based on the excellent course [ChatGPT Prompt Engineering for Developers](https://www.deeplearning.ai/short-courses/chatgpt-prompt-engineering-for-developers/) by Andrew Ng."
   ]
  },
  {
   "cell_type": "markdown",
   "metadata": {
    "id": "gBPoBAwuIg5n"
   },
   "source": [
    "### Setup"
   ]
  },
  {
   "cell_type": "code",
   "execution_count": null,
   "metadata": {
    "id": "B9II9CUJsVer"
   },
   "outputs": [],
   "source": [
    "%%capture\n",
    "if 'google.colab' in str(get_ipython()):\n",
    "  !apt install libspatialindex-dev\n",
    "  !pip install fiona shapely pyproj rtree mapclassify\n",
    "  !pip install geopandas\n",
    "  !pip install openai\n",
    "  !pip install geopy"
   ]
  },
  {
   "cell_type": "code",
   "execution_count": null,
   "metadata": {
    "id": "tHaljj6OscCv"
   },
   "outputs": [],
   "source": [
    "import openai\n",
    "import os\n",
    "import json\n",
    "import pandas as pd\n",
    "from geopy.geocoders import GoogleV3\n",
    "from geopy.extra.rate_limiter import RateLimiter\n",
    "import folium\n",
    "from folium import Figure\n",
    "\n",
    "import geopandas as gpd\n",
    "\n"
   ]
  },
  {
   "cell_type": "markdown",
   "metadata": {
    "id": "tGhy4NBdH2nV"
   },
   "source": [
    "Add your OpenAI API Key below. You need to [sign-up](https://platform.openai.com/signup) and obtain a key. This requires setting up a billing account. If you want to experiement, you can use the free environment provided by the [ChatGPT Prompt Engineering for Developers](https://www.deeplearning.ai/short-courses/chatgpt-prompt-engineering-for-developers/) course.\n",
    "\n",
    "Add your Google Maps API Key below. This requires [signing-up](https://console.cloud.google.com/) using Google Cloud Console and setting up a billing account. Once done, make sure to enable Geocoding API and get a key."
   ]
  },
  {
   "cell_type": "code",
   "execution_count": null,
   "metadata": {
    "id": "-sF6fo2NIfBG"
   },
   "outputs": [],
   "source": [
    "openai.api_key  = ''\n",
    "google_maps_api_key = ''"
   ]
  },
  {
   "cell_type": "markdown",
   "metadata": {
    "id": "TKJpusMOImRx"
   },
   "source": [
    "Initialize the model."
   ]
  },
  {
   "cell_type": "code",
   "execution_count": null,
   "metadata": {
    "id": "CKiYuhNPsjEl"
   },
   "outputs": [],
   "source": [
    "def get_completion(prompt, model=\"gpt-3.5-turbo\"):\n",
    "    messages = [{\"role\": \"user\", \"content\": prompt}]\n",
    "    response = openai.ChatCompletion.create(\n",
    "        model=model,\n",
    "        messages=messages,\n",
    "        temperature=0, # this is the degree of randomness of the model's output\n",
    "    )\n",
    "    return response.choices[0].message[\"content\"]"
   ]
  },
  {
   "cell_type": "markdown",
   "metadata": {
    "id": "4OEfB4jZIpMZ"
   },
   "source": [
    "## Load Data"
   ]
  },
  {
   "cell_type": "code",
   "execution_count": null,
   "metadata": {
    "id": "aiQnF2l_ItZh"
   },
   "outputs": [],
   "source": [
    "data_folder = 'data'\n",
    "output_folder = 'output'\n",
    "\n",
    "if not os.path.exists(data_folder):\n",
    "    os.mkdir(data_folder)\n",
    "if not os.path.exists(output_folder):\n",
    "    os.mkdir(output_folder)"
   ]
  },
  {
   "cell_type": "code",
   "execution_count": null,
   "metadata": {
    "colab": {
     "base_uri": "https://localhost:8080/"
    },
    "id": "OKAv4jXVJRpE",
    "outputId": "e9322abd-e273-4c4a-88d5-4004221d5664"
   },
   "outputs": [
    {
     "name": "stdout",
     "output_type": "stream",
     "text": [
      "Downloaded data/article1.txt\n",
      "Downloaded data/article2.txt\n",
      "Downloaded data/article3.txt\n"
     ]
    }
   ],
   "source": [
    "def download(url):\n",
    "    filename = os.path.join(data_folder, os.path.basename(url))\n",
    "    if not os.path.exists(filename):\n",
    "        from urllib.request import urlretrieve\n",
    "        local, _ = urlretrieve(url, filename)\n",
    "        print('Downloaded ' + local)\n",
    "\n",
    "data_url = 'https://github.com/spatialthoughts/python-tutorials/raw/main/data/'\n",
    "\n",
    "articles = ['article1.txt', 'article2.txt', 'article3.txt']\n",
    "\n",
    "for article in articles:\n",
    "  download(data_url + article)\n"
   ]
  },
  {
   "cell_type": "markdown",
   "metadata": {
    "id": "d8_jtZ03JkaU"
   },
   "source": [
    "## Get AI Predictions"
   ]
  },
  {
   "cell_type": "markdown",
   "metadata": {
    "id": "ed4tnA4sJv9E"
   },
   "source": [
    "Read the data."
   ]
  },
  {
   "cell_type": "code",
   "execution_count": null,
   "metadata": {
    "id": "U1R6kcHcJy1c"
   },
   "outputs": [],
   "source": [
    "articles_texts = []\n",
    "\n",
    "for article in articles:\n",
    "  path = os.path.join(data_folder, article)\n",
    "  f = open(path, 'r')\n",
    "  articles_texts.append(f.read())"
   ]
  },
  {
   "cell_type": "markdown",
   "metadata": {
    "id": "tl6ypBU0KjDO"
   },
   "source": [
    "Display the excerpt of the first article"
   ]
  },
  {
   "cell_type": "code",
   "execution_count": null,
   "metadata": {
    "colab": {
     "base_uri": "https://localhost:8080/"
    },
    "id": "3f8Nh3R9KaoH",
    "outputId": "5f97ecce-bf35-4624-947e-507dc577c52e"
   },
   "outputs": [
    {
     "name": "stdout",
     "output_type": "stream",
     "text": [
      "Title:\n",
      "2 Persons Trampled To Death By Elephants In 2 Days In Odisha’s Dhenkanal\n",
      "\n",
      "Description:\n",
      "Dhenkanal: Human casualty due to elephant attack continued in Odisha’s Dhenkanal district as a man was trampled to death by a herd on Saturday.\n",
      "According to\n"
     ]
    }
   ],
   "source": [
    "print(articles_texts[0][:250])"
   ]
  },
  {
   "cell_type": "markdown",
   "metadata": {
    "id": "FNI4_vxqJxxl"
   },
   "source": [
    "\n",
    "We design a prompt to extract specific information from the news article in JSON format."
   ]
  },
  {
   "cell_type": "code",
   "execution_count": null,
   "metadata": {
    "id": "Oh20xjYDwTs3"
   },
   "outputs": [],
   "source": [
    "results = []\n",
    "\n",
    "for article_text in articles_texts:\n",
    "  prompt = f\"\"\"\n",
    "    Identify the following items from the news article\n",
    "    - Location of the incident\n",
    "    - Number of people injured\n",
    "    - Number of people killed\n",
    "    - Short summary\n",
    "\n",
    "    The news article is delimited with triple backticks.\n",
    "    Format your response as a JSON object with 'location', 'num_injured', 'num_killed' and 'summary' as the keys. \\\n",
    "    If the information isn't present, use \"unknown\" as the value.\n",
    "    Make your response as short as possible.\n",
    "\n",
    "    News article: '''{article_text}'''\n",
    "  \"\"\"\n",
    "  response = get_completion(prompt)\n",
    "  results.append(json.loads(response))"
   ]
  },
  {
   "cell_type": "code",
   "execution_count": null,
   "metadata": {
    "id": "WOM9IKD1xiBC"
   },
   "outputs": [],
   "source": [
    "df = pd.DataFrame.from_dict(results)"
   ]
  },
  {
   "cell_type": "markdown",
   "metadata": {},
   "source": [
    "## Geocode Locations"
   ]
  },
  {
   "cell_type": "code",
   "execution_count": null,
   "metadata": {
    "id": "lgyYJVXOL311"
   },
   "outputs": [],
   "source": [
    "locator = GoogleV3(api_key=google_maps_api_key)\n",
    "geocode_fn = RateLimiter(locator.geocode, min_delay_seconds=2)\n",
    "\n",
    "df['geocoded'] = df['location'].apply(geocode_fn)\n"
   ]
  },
  {
   "cell_type": "code",
   "execution_count": null,
   "metadata": {
    "colab": {
     "base_uri": "https://localhost:8080/",
     "height": 143
    },
    "id": "FNOP3eZWNRap",
    "outputId": "801f6cd0-6d7d-4a87-c545-dcae1613defe"
   },
   "outputs": [
    {
     "data": {
      "text/html": [
       "\n",
       "  <div id=\"df-2aaf8be2-3703-417f-8efa-73db687cbbdc\">\n",
       "    <div class=\"colab-df-container\">\n",
       "      <div>\n",
       "<style scoped>\n",
       "    .dataframe tbody tr th:only-of-type {\n",
       "        vertical-align: middle;\n",
       "    }\n",
       "\n",
       "    .dataframe tbody tr th {\n",
       "        vertical-align: top;\n",
       "    }\n",
       "\n",
       "    .dataframe thead th {\n",
       "        text-align: right;\n",
       "    }\n",
       "</style>\n",
       "<table border=\"1\" class=\"dataframe\">\n",
       "  <thead>\n",
       "    <tr style=\"text-align: right;\">\n",
       "      <th></th>\n",
       "      <th>location</th>\n",
       "      <th>num_injured</th>\n",
       "      <th>num_killed</th>\n",
       "      <th>summary</th>\n",
       "      <th>geocoded</th>\n",
       "    </tr>\n",
       "  </thead>\n",
       "  <tbody>\n",
       "    <tr>\n",
       "      <th>0</th>\n",
       "      <td>Dhenkanal, Odisha</td>\n",
       "      <td>unknown</td>\n",
       "      <td>2</td>\n",
       "      <td>Two people were trampled to death by elephants...</td>\n",
       "      <td>(Dhenkanal, Odisha, India, (20.6504753, 85.598...</td>\n",
       "    </tr>\n",
       "    <tr>\n",
       "      <th>1</th>\n",
       "      <td>Jharkhand's Latehar district</td>\n",
       "      <td>unknown</td>\n",
       "      <td>3</td>\n",
       "      <td>Three members of a family, including a three-y...</td>\n",
       "      <td>(Latehar, Jharkhand, India, (23.7555791, 84.35...</td>\n",
       "    </tr>\n",
       "    <tr>\n",
       "      <th>2</th>\n",
       "      <td>Perumugai, T.N. Palayam block, Tamil Nadu, India</td>\n",
       "      <td>unknown</td>\n",
       "      <td>1</td>\n",
       "      <td>Wild elephant Karuppan trampled a daily wage w...</td>\n",
       "      <td>(Perumugai, Tamil Nadu, India, (11.5187553, 77...</td>\n",
       "    </tr>\n",
       "  </tbody>\n",
       "</table>\n",
       "</div>\n",
       "      <button class=\"colab-df-convert\" onclick=\"convertToInteractive('df-2aaf8be2-3703-417f-8efa-73db687cbbdc')\"\n",
       "              title=\"Convert this dataframe to an interactive table.\"\n",
       "              style=\"display:none;\">\n",
       "        \n",
       "  <svg xmlns=\"http://www.w3.org/2000/svg\" height=\"24px\"viewBox=\"0 0 24 24\"\n",
       "       width=\"24px\">\n",
       "    <path d=\"M0 0h24v24H0V0z\" fill=\"none\"/>\n",
       "    <path d=\"M18.56 5.44l.94 2.06.94-2.06 2.06-.94-2.06-.94-.94-2.06-.94 2.06-2.06.94zm-11 1L8.5 8.5l.94-2.06 2.06-.94-2.06-.94L8.5 2.5l-.94 2.06-2.06.94zm10 10l.94 2.06.94-2.06 2.06-.94-2.06-.94-.94-2.06-.94 2.06-2.06.94z\"/><path d=\"M17.41 7.96l-1.37-1.37c-.4-.4-.92-.59-1.43-.59-.52 0-1.04.2-1.43.59L10.3 9.45l-7.72 7.72c-.78.78-.78 2.05 0 2.83L4 21.41c.39.39.9.59 1.41.59.51 0 1.02-.2 1.41-.59l7.78-7.78 2.81-2.81c.8-.78.8-2.07 0-2.86zM5.41 20L4 18.59l7.72-7.72 1.47 1.35L5.41 20z\"/>\n",
       "  </svg>\n",
       "      </button>\n",
       "      \n",
       "  <style>\n",
       "    .colab-df-container {\n",
       "      display:flex;\n",
       "      flex-wrap:wrap;\n",
       "      gap: 12px;\n",
       "    }\n",
       "\n",
       "    .colab-df-convert {\n",
       "      background-color: #E8F0FE;\n",
       "      border: none;\n",
       "      border-radius: 50%;\n",
       "      cursor: pointer;\n",
       "      display: none;\n",
       "      fill: #1967D2;\n",
       "      height: 32px;\n",
       "      padding: 0 0 0 0;\n",
       "      width: 32px;\n",
       "    }\n",
       "\n",
       "    .colab-df-convert:hover {\n",
       "      background-color: #E2EBFA;\n",
       "      box-shadow: 0px 1px 2px rgba(60, 64, 67, 0.3), 0px 1px 3px 1px rgba(60, 64, 67, 0.15);\n",
       "      fill: #174EA6;\n",
       "    }\n",
       "\n",
       "    [theme=dark] .colab-df-convert {\n",
       "      background-color: #3B4455;\n",
       "      fill: #D2E3FC;\n",
       "    }\n",
       "\n",
       "    [theme=dark] .colab-df-convert:hover {\n",
       "      background-color: #434B5C;\n",
       "      box-shadow: 0px 1px 3px 1px rgba(0, 0, 0, 0.15);\n",
       "      filter: drop-shadow(0px 1px 2px rgba(0, 0, 0, 0.3));\n",
       "      fill: #FFFFFF;\n",
       "    }\n",
       "  </style>\n",
       "\n",
       "      <script>\n",
       "        const buttonEl =\n",
       "          document.querySelector('#df-2aaf8be2-3703-417f-8efa-73db687cbbdc button.colab-df-convert');\n",
       "        buttonEl.style.display =\n",
       "          google.colab.kernel.accessAllowed ? 'block' : 'none';\n",
       "\n",
       "        async function convertToInteractive(key) {\n",
       "          const element = document.querySelector('#df-2aaf8be2-3703-417f-8efa-73db687cbbdc');\n",
       "          const dataTable =\n",
       "            await google.colab.kernel.invokeFunction('convertToInteractive',\n",
       "                                                     [key], {});\n",
       "          if (!dataTable) return;\n",
       "\n",
       "          const docLinkHtml = 'Like what you see? Visit the ' +\n",
       "            '<a target=\"_blank\" href=https://colab.research.google.com/notebooks/data_table.ipynb>data table notebook</a>'\n",
       "            + ' to learn more about interactive tables.';\n",
       "          element.innerHTML = '';\n",
       "          dataTable['output_type'] = 'display_data';\n",
       "          await google.colab.output.renderOutput(dataTable, element);\n",
       "          const docLink = document.createElement('div');\n",
       "          docLink.innerHTML = docLinkHtml;\n",
       "          element.appendChild(docLink);\n",
       "        }\n",
       "      </script>\n",
       "    </div>\n",
       "  </div>\n",
       "  "
      ],
      "text/plain": [
       "                                           location num_injured num_killed  \\\n",
       "0                                 Dhenkanal, Odisha     unknown          2   \n",
       "1                      Jharkhand's Latehar district     unknown          3   \n",
       "2  Perumugai, T.N. Palayam block, Tamil Nadu, India     unknown          1   \n",
       "\n",
       "                                             summary  \\\n",
       "0  Two people were trampled to death by elephants...   \n",
       "1  Three members of a family, including a three-y...   \n",
       "2  Wild elephant Karuppan trampled a daily wage w...   \n",
       "\n",
       "                                            geocoded  \n",
       "0  (Dhenkanal, Odisha, India, (20.6504753, 85.598...  \n",
       "1  (Latehar, Jharkhand, India, (23.7555791, 84.35...  \n",
       "2  (Perumugai, Tamil Nadu, India, (11.5187553, 77...  "
      ]
     },
     "execution_count": 37,
     "metadata": {},
     "output_type": "execute_result"
    }
   ],
   "source": [
    "df"
   ]
  },
  {
   "cell_type": "code",
   "execution_count": null,
   "metadata": {
    "id": "o-wbJRTfO0_A"
   },
   "outputs": [],
   "source": [
    "df['point'] = df['geocoded'].apply(lambda loc: tuple(loc.point) if loc else None)\n",
    "df[['latitude', 'longitude', 'altitude']] = pd.DataFrame(df['point'].tolist(), index=df.index)\n",
    "df = df[['location', 'num_injured', 'num_killed', 'summary', 'latitude', 'longitude']]"
   ]
  },
  {
   "cell_type": "code",
   "execution_count": null,
   "metadata": {
    "colab": {
     "base_uri": "https://localhost:8080/",
     "height": 143
    },
    "id": "SxscanjIQHp-",
    "outputId": "d6189beb-551f-434a-91de-e372ced688c9"
   },
   "outputs": [
    {
     "data": {
      "text/html": [
       "\n",
       "  <div id=\"df-c3480bda-c851-4d76-8145-af0c730f8677\">\n",
       "    <div class=\"colab-df-container\">\n",
       "      <div>\n",
       "<style scoped>\n",
       "    .dataframe tbody tr th:only-of-type {\n",
       "        vertical-align: middle;\n",
       "    }\n",
       "\n",
       "    .dataframe tbody tr th {\n",
       "        vertical-align: top;\n",
       "    }\n",
       "\n",
       "    .dataframe thead th {\n",
       "        text-align: right;\n",
       "    }\n",
       "</style>\n",
       "<table border=\"1\" class=\"dataframe\">\n",
       "  <thead>\n",
       "    <tr style=\"text-align: right;\">\n",
       "      <th></th>\n",
       "      <th>location</th>\n",
       "      <th>num_injured</th>\n",
       "      <th>num_killed</th>\n",
       "      <th>summary</th>\n",
       "      <th>latitude</th>\n",
       "      <th>longitude</th>\n",
       "      <th>geometry</th>\n",
       "    </tr>\n",
       "  </thead>\n",
       "  <tbody>\n",
       "    <tr>\n",
       "      <th>0</th>\n",
       "      <td>Dhenkanal, Odisha</td>\n",
       "      <td>unknown</td>\n",
       "      <td>2</td>\n",
       "      <td>Two people were trampled to death by elephants...</td>\n",
       "      <td>20.650475</td>\n",
       "      <td>85.598122</td>\n",
       "      <td>POINT (85.59812 20.65048)</td>\n",
       "    </tr>\n",
       "    <tr>\n",
       "      <th>1</th>\n",
       "      <td>Jharkhand's Latehar district</td>\n",
       "      <td>unknown</td>\n",
       "      <td>3</td>\n",
       "      <td>Three members of a family, including a three-y...</td>\n",
       "      <td>23.755579</td>\n",
       "      <td>84.354205</td>\n",
       "      <td>POINT (84.35420 23.75558)</td>\n",
       "    </tr>\n",
       "    <tr>\n",
       "      <th>2</th>\n",
       "      <td>Perumugai, T.N. Palayam block, Tamil Nadu, India</td>\n",
       "      <td>unknown</td>\n",
       "      <td>1</td>\n",
       "      <td>Wild elephant Karuppan trampled a daily wage w...</td>\n",
       "      <td>11.518755</td>\n",
       "      <td>77.464461</td>\n",
       "      <td>POINT (77.46446 11.51876)</td>\n",
       "    </tr>\n",
       "  </tbody>\n",
       "</table>\n",
       "</div>\n",
       "      <button class=\"colab-df-convert\" onclick=\"convertToInteractive('df-c3480bda-c851-4d76-8145-af0c730f8677')\"\n",
       "              title=\"Convert this dataframe to an interactive table.\"\n",
       "              style=\"display:none;\">\n",
       "        \n",
       "  <svg xmlns=\"http://www.w3.org/2000/svg\" height=\"24px\"viewBox=\"0 0 24 24\"\n",
       "       width=\"24px\">\n",
       "    <path d=\"M0 0h24v24H0V0z\" fill=\"none\"/>\n",
       "    <path d=\"M18.56 5.44l.94 2.06.94-2.06 2.06-.94-2.06-.94-.94-2.06-.94 2.06-2.06.94zm-11 1L8.5 8.5l.94-2.06 2.06-.94-2.06-.94L8.5 2.5l-.94 2.06-2.06.94zm10 10l.94 2.06.94-2.06 2.06-.94-2.06-.94-.94-2.06-.94 2.06-2.06.94z\"/><path d=\"M17.41 7.96l-1.37-1.37c-.4-.4-.92-.59-1.43-.59-.52 0-1.04.2-1.43.59L10.3 9.45l-7.72 7.72c-.78.78-.78 2.05 0 2.83L4 21.41c.39.39.9.59 1.41.59.51 0 1.02-.2 1.41-.59l7.78-7.78 2.81-2.81c.8-.78.8-2.07 0-2.86zM5.41 20L4 18.59l7.72-7.72 1.47 1.35L5.41 20z\"/>\n",
       "  </svg>\n",
       "      </button>\n",
       "      \n",
       "  <style>\n",
       "    .colab-df-container {\n",
       "      display:flex;\n",
       "      flex-wrap:wrap;\n",
       "      gap: 12px;\n",
       "    }\n",
       "\n",
       "    .colab-df-convert {\n",
       "      background-color: #E8F0FE;\n",
       "      border: none;\n",
       "      border-radius: 50%;\n",
       "      cursor: pointer;\n",
       "      display: none;\n",
       "      fill: #1967D2;\n",
       "      height: 32px;\n",
       "      padding: 0 0 0 0;\n",
       "      width: 32px;\n",
       "    }\n",
       "\n",
       "    .colab-df-convert:hover {\n",
       "      background-color: #E2EBFA;\n",
       "      box-shadow: 0px 1px 2px rgba(60, 64, 67, 0.3), 0px 1px 3px 1px rgba(60, 64, 67, 0.15);\n",
       "      fill: #174EA6;\n",
       "    }\n",
       "\n",
       "    [theme=dark] .colab-df-convert {\n",
       "      background-color: #3B4455;\n",
       "      fill: #D2E3FC;\n",
       "    }\n",
       "\n",
       "    [theme=dark] .colab-df-convert:hover {\n",
       "      background-color: #434B5C;\n",
       "      box-shadow: 0px 1px 3px 1px rgba(0, 0, 0, 0.15);\n",
       "      filter: drop-shadow(0px 1px 2px rgba(0, 0, 0, 0.3));\n",
       "      fill: #FFFFFF;\n",
       "    }\n",
       "  </style>\n",
       "\n",
       "      <script>\n",
       "        const buttonEl =\n",
       "          document.querySelector('#df-c3480bda-c851-4d76-8145-af0c730f8677 button.colab-df-convert');\n",
       "        buttonEl.style.display =\n",
       "          google.colab.kernel.accessAllowed ? 'block' : 'none';\n",
       "\n",
       "        async function convertToInteractive(key) {\n",
       "          const element = document.querySelector('#df-c3480bda-c851-4d76-8145-af0c730f8677');\n",
       "          const dataTable =\n",
       "            await google.colab.kernel.invokeFunction('convertToInteractive',\n",
       "                                                     [key], {});\n",
       "          if (!dataTable) return;\n",
       "\n",
       "          const docLinkHtml = 'Like what you see? Visit the ' +\n",
       "            '<a target=\"_blank\" href=https://colab.research.google.com/notebooks/data_table.ipynb>data table notebook</a>'\n",
       "            + ' to learn more about interactive tables.';\n",
       "          element.innerHTML = '';\n",
       "          dataTable['output_type'] = 'display_data';\n",
       "          await google.colab.output.renderOutput(dataTable, element);\n",
       "          const docLink = document.createElement('div');\n",
       "          docLink.innerHTML = docLinkHtml;\n",
       "          element.appendChild(docLink);\n",
       "        }\n",
       "      </script>\n",
       "    </div>\n",
       "  </div>\n",
       "  "
      ],
      "text/plain": [
       "                                           location num_injured num_killed  \\\n",
       "0                                 Dhenkanal, Odisha     unknown          2   \n",
       "1                      Jharkhand's Latehar district     unknown          3   \n",
       "2  Perumugai, T.N. Palayam block, Tamil Nadu, India     unknown          1   \n",
       "\n",
       "                                             summary   latitude  longitude  \\\n",
       "0  Two people were trampled to death by elephants...  20.650475  85.598122   \n",
       "1  Three members of a family, including a three-y...  23.755579  84.354205   \n",
       "2  Wild elephant Karuppan trampled a daily wage w...  11.518755  77.464461   \n",
       "\n",
       "                    geometry  \n",
       "0  POINT (85.59812 20.65048)  \n",
       "1  POINT (84.35420 23.75558)  \n",
       "2  POINT (77.46446 11.51876)  "
      ]
     },
     "execution_count": 49,
     "metadata": {},
     "output_type": "execute_result"
    }
   ],
   "source": [
    "geometry = gpd.points_from_xy(df.longitude, df.latitude)\n",
    "gdf = gpd.GeoDataFrame(df, crs='EPSG:4326', geometry=geometry)\n",
    "gdf"
   ]
  },
  {
   "cell_type": "code",
   "execution_count": null,
   "metadata": {
    "colab": {
     "base_uri": "https://localhost:8080/",
     "height": 421
    },
    "id": "jhS6D6RUO3m2",
    "outputId": "c21f9555-720e-4fa9-dbcf-248298a57d6d"
   },
   "outputs": [
    {
     "data": {
      "text/html": [
       "<iframe srcdoc=\"&lt;!DOCTYPE html&gt;\n",
       "&lt;html&gt;\n",
       "&lt;head&gt;\n",
       "    \n",
       "    &lt;meta http-equiv=&quot;content-type&quot; content=&quot;text/html; charset=UTF-8&quot; /&gt;\n",
       "    \n",
       "        &lt;script&gt;\n",
       "            L_NO_TOUCH = false;\n",
       "            L_DISABLE_3D = false;\n",
       "        &lt;/script&gt;\n",
       "    \n",
       "    &lt;style&gt;html, body {width: 100%;height: 100%;margin: 0;padding: 0;}&lt;/style&gt;\n",
       "    &lt;style&gt;#map {position:absolute;top:0;bottom:0;right:0;left:0;}&lt;/style&gt;\n",
       "    &lt;script src=&quot;https://cdn.jsdelivr.net/npm/leaflet@1.9.3/dist/leaflet.js&quot;&gt;&lt;/script&gt;\n",
       "    &lt;script src=&quot;https://code.jquery.com/jquery-1.12.4.min.js&quot;&gt;&lt;/script&gt;\n",
       "    &lt;script src=&quot;https://cdn.jsdelivr.net/npm/bootstrap@5.2.2/dist/js/bootstrap.bundle.min.js&quot;&gt;&lt;/script&gt;\n",
       "    &lt;script src=&quot;https://cdnjs.cloudflare.com/ajax/libs/Leaflet.awesome-markers/2.0.2/leaflet.awesome-markers.js&quot;&gt;&lt;/script&gt;\n",
       "    &lt;link rel=&quot;stylesheet&quot; href=&quot;https://cdn.jsdelivr.net/npm/leaflet@1.9.3/dist/leaflet.css&quot;/&gt;\n",
       "    &lt;link rel=&quot;stylesheet&quot; href=&quot;https://cdn.jsdelivr.net/npm/bootstrap@5.2.2/dist/css/bootstrap.min.css&quot;/&gt;\n",
       "    &lt;link rel=&quot;stylesheet&quot; href=&quot;https://netdna.bootstrapcdn.com/bootstrap/3.0.0/css/bootstrap.min.css&quot;/&gt;\n",
       "    &lt;link rel=&quot;stylesheet&quot; href=&quot;https://cdn.jsdelivr.net/npm/@fortawesome/fontawesome-free@6.2.0/css/all.min.css&quot;/&gt;\n",
       "    &lt;link rel=&quot;stylesheet&quot; href=&quot;https://cdnjs.cloudflare.com/ajax/libs/Leaflet.awesome-markers/2.0.2/leaflet.awesome-markers.css&quot;/&gt;\n",
       "    &lt;link rel=&quot;stylesheet&quot; href=&quot;https://cdn.jsdelivr.net/gh/python-visualization/folium/folium/templates/leaflet.awesome.rotate.min.css&quot;/&gt;\n",
       "    \n",
       "            &lt;meta name=&quot;viewport&quot; content=&quot;width=device-width,\n",
       "                initial-scale=1.0, maximum-scale=1.0, user-scalable=no&quot; /&gt;\n",
       "            &lt;style&gt;\n",
       "                #map_16ceeed818f7ed22ecba44d20baf9a6d {\n",
       "                    position: relative;\n",
       "                    width: 100.0%;\n",
       "                    height: 100.0%;\n",
       "                    left: 0.0%;\n",
       "                    top: 0.0%;\n",
       "                }\n",
       "                .leaflet-container { font-size: 1rem; }\n",
       "            &lt;/style&gt;\n",
       "        \n",
       "    \n",
       "                    &lt;style&gt;\n",
       "                        .foliumtooltip {\n",
       "                            \n",
       "                        }\n",
       "                       .foliumtooltip table{\n",
       "                            margin: auto;\n",
       "                        }\n",
       "                        .foliumtooltip tr{\n",
       "                            text-align: left;\n",
       "                        }\n",
       "                        .foliumtooltip th{\n",
       "                            padding: 2px; padding-right: 8px;\n",
       "                        }\n",
       "                    &lt;/style&gt;\n",
       "            \n",
       "    \n",
       "                    &lt;style&gt;\n",
       "                        .foliumpopup {\n",
       "                            margin: auto;\n",
       "                        }\n",
       "                       .foliumpopup table{\n",
       "                            margin: auto;\n",
       "                        }\n",
       "                        .foliumpopup tr{\n",
       "                            text-align: left;\n",
       "                        }\n",
       "                        .foliumpopup th{\n",
       "                            padding: 2px; padding-right: 8px;\n",
       "                        }\n",
       "                    &lt;/style&gt;\n",
       "            \n",
       "&lt;/head&gt;\n",
       "&lt;body&gt;\n",
       "    \n",
       "    \n",
       "            &lt;div class=&quot;folium-map&quot; id=&quot;map_16ceeed818f7ed22ecba44d20baf9a6d&quot; &gt;&lt;/div&gt;\n",
       "        \n",
       "&lt;/body&gt;\n",
       "&lt;script&gt;\n",
       "    \n",
       "    \n",
       "            var map_16ceeed818f7ed22ecba44d20baf9a6d = L.map(\n",
       "                &quot;map_16ceeed818f7ed22ecba44d20baf9a6d&quot;,\n",
       "                {\n",
       "                    center: [0, 0],\n",
       "                    crs: L.CRS.EPSG3857,\n",
       "                    zoom: 1,\n",
       "                    zoomControl: true,\n",
       "                    preferCanvas: false,\n",
       "                }\n",
       "            );\n",
       "\n",
       "            \n",
       "\n",
       "        \n",
       "    \n",
       "            var tile_layer_09798db9b1264beeb81b3729beaa1770 = L.tileLayer(\n",
       "                &quot;https://{s}.tile.openstreetmap.org/{z}/{x}/{y}.png&quot;,\n",
       "                {&quot;attribution&quot;: &quot;Data by \\u0026copy; \\u003ca target=\\&quot;_blank\\&quot; href=\\&quot;http://openstreetmap.org\\&quot;\\u003eOpenStreetMap\\u003c/a\\u003e, under \\u003ca target=\\&quot;_blank\\&quot; href=\\&quot;http://www.openstreetmap.org/copyright\\&quot;\\u003eODbL\\u003c/a\\u003e.&quot;, &quot;detectRetina&quot;: false, &quot;maxNativeZoom&quot;: 18, &quot;maxZoom&quot;: 18, &quot;minZoom&quot;: 0, &quot;noWrap&quot;: false, &quot;opacity&quot;: 1, &quot;subdomains&quot;: &quot;abc&quot;, &quot;tms&quot;: false}\n",
       "            ).addTo(map_16ceeed818f7ed22ecba44d20baf9a6d);\n",
       "        \n",
       "    \n",
       "            map_16ceeed818f7ed22ecba44d20baf9a6d.fitBounds(\n",
       "                [[11.5187553, 77.46446069999999], [23.7555791, 85.5981223]],\n",
       "                {}\n",
       "            );\n",
       "        \n",
       "    \n",
       "        function geo_json_ae309dee7d0de14dbec9ee4ec9fa38fa_styler(feature) {\n",
       "            switch(feature.id) {\n",
       "                default:\n",
       "                    return {&quot;fillOpacity&quot;: 0.5, &quot;weight&quot;: 2};\n",
       "            }\n",
       "        }\n",
       "        function geo_json_ae309dee7d0de14dbec9ee4ec9fa38fa_highlighter(feature) {\n",
       "            switch(feature.id) {\n",
       "                default:\n",
       "                    return {&quot;fillOpacity&quot;: 0.75};\n",
       "            }\n",
       "        }\n",
       "        function geo_json_ae309dee7d0de14dbec9ee4ec9fa38fa_pointToLayer(feature, latlng) {\n",
       "            var opts = {&quot;bubblingMouseEvents&quot;: true, &quot;color&quot;: &quot;#3388ff&quot;, &quot;dashArray&quot;: null, &quot;dashOffset&quot;: null, &quot;fill&quot;: true, &quot;fillColor&quot;: &quot;#3388ff&quot;, &quot;fillOpacity&quot;: 0.2, &quot;fillRule&quot;: &quot;evenodd&quot;, &quot;lineCap&quot;: &quot;round&quot;, &quot;lineJoin&quot;: &quot;round&quot;, &quot;opacity&quot;: 1.0, &quot;radius&quot;: 5, &quot;stroke&quot;: true, &quot;weight&quot;: 3};\n",
       "            \n",
       "            let style = geo_json_ae309dee7d0de14dbec9ee4ec9fa38fa_styler(feature)\n",
       "            Object.assign(opts, style)\n",
       "            \n",
       "            return new L.CircleMarker(latlng, opts)\n",
       "        }\n",
       "\n",
       "        function geo_json_ae309dee7d0de14dbec9ee4ec9fa38fa_onEachFeature(feature, layer) {\n",
       "            layer.on({\n",
       "                mouseout: function(e) {\n",
       "                    if(typeof e.target.setStyle === &quot;function&quot;){\n",
       "                        geo_json_ae309dee7d0de14dbec9ee4ec9fa38fa.resetStyle(e.target);\n",
       "                    }\n",
       "                },\n",
       "                mouseover: function(e) {\n",
       "                    if(typeof e.target.setStyle === &quot;function&quot;){\n",
       "                        const highlightStyle = geo_json_ae309dee7d0de14dbec9ee4ec9fa38fa_highlighter(e.target.feature)\n",
       "                        e.target.setStyle(highlightStyle);\n",
       "                    }\n",
       "                },\n",
       "            });\n",
       "        };\n",
       "        var geo_json_ae309dee7d0de14dbec9ee4ec9fa38fa = L.geoJson(null, {\n",
       "                onEachFeature: geo_json_ae309dee7d0de14dbec9ee4ec9fa38fa_onEachFeature,\n",
       "            \n",
       "                style: geo_json_ae309dee7d0de14dbec9ee4ec9fa38fa_styler,\n",
       "                pointToLayer: geo_json_ae309dee7d0de14dbec9ee4ec9fa38fa_pointToLayer\n",
       "        });\n",
       "\n",
       "        function geo_json_ae309dee7d0de14dbec9ee4ec9fa38fa_add (data) {\n",
       "            geo_json_ae309dee7d0de14dbec9ee4ec9fa38fa\n",
       "                .addData(data)\n",
       "                .addTo(map_16ceeed818f7ed22ecba44d20baf9a6d);\n",
       "        }\n",
       "            geo_json_ae309dee7d0de14dbec9ee4ec9fa38fa_add({&quot;bbox&quot;: [77.46446069999999, 11.5187553, 85.5981223, 23.7555791], &quot;features&quot;: [{&quot;bbox&quot;: [85.5981223, 20.6504753, 85.5981223, 20.6504753], &quot;geometry&quot;: {&quot;coordinates&quot;: [85.5981223, 20.6504753], &quot;type&quot;: &quot;Point&quot;}, &quot;id&quot;: &quot;0&quot;, &quot;properties&quot;: {&quot;latitude&quot;: 20.6504753, &quot;location&quot;: &quot;Dhenkanal, Odisha&quot;, &quot;longitude&quot;: 85.5981223, &quot;num_injured&quot;: &quot;unknown&quot;, &quot;num_killed&quot;: 2, &quot;summary&quot;: &quot;Two people were trampled to death by elephants in two separate incidents in Dhenkanal, Odisha. The most recent incident occurred when a man was collecting cashew nuts and came face to face with three elephants who had separated from a herd.&quot;}, &quot;type&quot;: &quot;Feature&quot;}, {&quot;bbox&quot;: [84.3542049, 23.7555791, 84.3542049, 23.7555791], &quot;geometry&quot;: {&quot;coordinates&quot;: [84.3542049, 23.7555791], &quot;type&quot;: &quot;Point&quot;}, &quot;id&quot;: &quot;1&quot;, &quot;properties&quot;: {&quot;latitude&quot;: 23.7555791, &quot;location&quot;: &quot;Jharkhand\\u0027s Latehar district&quot;, &quot;longitude&quot;: 84.3542049, &quot;num_injured&quot;: &quot;unknown&quot;, &quot;num_killed&quot;: 3, &quot;summary&quot;: &quot;Three members of a family, including a three-year-old girl, were trampled to death by a herd of elephants in Jharkhand\\u0027s Latehar district.&quot;}, &quot;type&quot;: &quot;Feature&quot;}, {&quot;bbox&quot;: [77.46446069999999, 11.5187553, 77.46446069999999, 11.5187553], &quot;geometry&quot;: {&quot;coordinates&quot;: [77.46446069999999, 11.5187553], &quot;type&quot;: &quot;Point&quot;}, &quot;id&quot;: &quot;2&quot;, &quot;properties&quot;: {&quot;latitude&quot;: 11.5187553, &quot;location&quot;: &quot;Perumugai, T.N. Palayam block, Tamil Nadu, India&quot;, &quot;longitude&quot;: 77.46446069999999, &quot;num_injured&quot;: &quot;unknown&quot;, &quot;num_killed&quot;: &quot;1&quot;, &quot;summary&quot;: &quot;Wild elephant Karuppan trampled a daily wage worker to death in Perumugai, Tamil Nadu. The Forest Department is preparing to capture and translocate the elephant after it walked over 50 km in search of food. The operation will be carried out during the day time.&quot;}, &quot;type&quot;: &quot;Feature&quot;}], &quot;type&quot;: &quot;FeatureCollection&quot;});\n",
       "\n",
       "        \n",
       "    \n",
       "    geo_json_ae309dee7d0de14dbec9ee4ec9fa38fa.bindTooltip(\n",
       "    function(layer){\n",
       "    let div = L.DomUtil.create(&#x27;div&#x27;);\n",
       "    \n",
       "    let handleObject = feature=&gt;typeof(feature)==&#x27;object&#x27; ? JSON.stringify(feature) : feature;\n",
       "    let fields = [&quot;location&quot;, &quot;num_killed&quot;];\n",
       "    let aliases = [&quot;location&quot;, &quot;num_killed&quot;];\n",
       "    let table = &#x27;&lt;table&gt;&#x27; +\n",
       "        String(\n",
       "        fields.map(\n",
       "        (v,i)=&gt;\n",
       "        `&lt;tr&gt;\n",
       "            &lt;th&gt;${aliases[i]}&lt;/th&gt;\n",
       "            \n",
       "            &lt;td&gt;${handleObject(layer.feature.properties[v])}&lt;/td&gt;\n",
       "        &lt;/tr&gt;`).join(&#x27;&#x27;))\n",
       "    +&#x27;&lt;/table&gt;&#x27;;\n",
       "    div.innerHTML=table;\n",
       "    \n",
       "    return div\n",
       "    }\n",
       "    ,{&quot;className&quot;: &quot;foliumtooltip&quot;, &quot;sticky&quot;: true});\n",
       "                     \n",
       "    \n",
       "    geo_json_ae309dee7d0de14dbec9ee4ec9fa38fa.bindPopup(\n",
       "    function(layer){\n",
       "    let div = L.DomUtil.create(&#x27;div&#x27;);\n",
       "    \n",
       "    let handleObject = feature=&gt;typeof(feature)==&#x27;object&#x27; ? JSON.stringify(feature) : feature;\n",
       "    let fields = [&quot;location&quot;, &quot;num_killed&quot;];\n",
       "    let aliases = [&quot;location&quot;, &quot;num_killed&quot;];\n",
       "    let table = &#x27;&lt;table&gt;&#x27; +\n",
       "        String(\n",
       "        fields.map(\n",
       "        (v,i)=&gt;\n",
       "        `&lt;tr&gt;\n",
       "            &lt;th&gt;${aliases[i].toLocaleString()}&lt;/th&gt;\n",
       "            \n",
       "            &lt;td&gt;${handleObject(layer.feature.properties[v]).toLocaleString()}&lt;/td&gt;\n",
       "        &lt;/tr&gt;`).join(&#x27;&#x27;))\n",
       "    +&#x27;&lt;/table&gt;&#x27;;\n",
       "    div.innerHTML=table;\n",
       "    \n",
       "    return div\n",
       "    }\n",
       "    ,{&quot;className&quot;: &quot;foliumpopup&quot;});\n",
       "                     \n",
       "&lt;/script&gt;\n",
       "&lt;/html&gt;\" width=\"800\" height=\"400\"style=\"border:none !important;\" \"allowfullscreen\" \"webkitallowfullscreen\" \"mozallowfullscreen\"></iframe>"
      ],
      "text/plain": [
       "<branca.element.Figure at 0x7fbe9c5e0c70>"
      ]
     },
     "execution_count": 58,
     "metadata": {},
     "output_type": "execute_result"
    }
   ],
   "source": [
    "bounds = gdf.total_bounds\n",
    "\n",
    "fig = Figure(width=800, height=400)\n",
    "\n",
    "m = folium.Map()\n",
    "m.fit_bounds([[bounds[1],bounds[0]], [bounds[3],bounds[2]]])\n",
    "\n",
    "gdf.explore(\n",
    "    m=m,\n",
    "    tooltip=['location', 'num_killed'],\n",
    "    popup=['location', 'num_killed'],\n",
    "    marker_kwds=dict(radius=5))\n",
    "\n",
    "fig.add_child(m)"
   ]
  }
 ],
 "metadata": {
  "colab": {
   "authorship_tag": "ABX9TyMl4VK/3QOtT9eQANDMzJ1D",
   "provenance": []
  },
  "kernelspec": {
   "display_name": "Python 3 (ipykernel)",
   "language": "python",
   "name": "python3"
  },
  "language_info": {
   "codemirror_mode": {
    "name": "ipython",
    "version": 3
   },
   "file_extension": ".py",
   "mimetype": "text/x-python",
   "name": "python",
   "nbconvert_exporter": "python",
   "pygments_lexer": "ipython3",
   "version": "3.13.1"
  }
 },
 "nbformat": 4,
 "nbformat_minor": 4
}
